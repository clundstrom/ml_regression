{
 "cells": [
  {
   "cell_type": "markdown",
   "metadata": {},
   "source": [
    "## Exercise 1\n",
    "\n",
    "<strong>1.1 Original data plot</strong>\n",
    "\n",
    "Next cell plots the original data loaded from data/microchips.csv\n",
    "by filtering FAILED and OK microchips to different lists and then outputting them with different colours.\n",
    "\n",
    "\n"
   ]
  },
  {
   "cell_type": "code",
   "execution_count": 1,
   "metadata": {
    "pycharm": {
     "is_executing": false
    }
   },
   "outputs": [
    {
     "data": {
      "image/png": "[encoded data removed]",
      "text/plain": [
       "<Figure size 432x288 with 1 Axes>"
      ]
     },
     "metadata": {
      "needs_background": "light"
     },
     "output_type": "display_data"
    }
   ],
   "source": [
    "import numpy as np\n",
    "from os import path\n",
    "import matplotlib.pyplot as plt\n",
    "\n",
    "data = np.genfromtxt(path.join('data/microchips.csv'), delimiter=',', dtype=float)\n",
    "\n",
    "failed = list(filter(lambda chip: chip[2] == 0, data))\n",
    "ok = list(filter(lambda chip: chip[2] == 1, data))\n",
    "\n",
    "xf, yf, zf = list(zip(*failed))\n",
    "plt.scatter(xf, yf, color='r')\n",
    "x, y, z = list(zip(*ok))\n",
    "plt.scatter(x, y, color='b')\n",
    "\n",
    "plt.xlabel('X-value')\n",
    "plt.ylabel('Y-value')\n",
    "plt.legend(['FAIL', 'OK'])\n",
    "plt.title(\"kNN Original data plot\")\n",
    "plt.show()"
   ]
  },
  {
   "cell_type": "markdown",
   "metadata": {
    "pycharm": {
     "is_executing": false,
     "name": "#%% md\n"
    }
   },
   "source": [
    "<strong>1.2 k-NN predictions</strong>\n",
    "\n",
    "This cell predicts statuses of provided cells in the Task for k values [1, 3, 5, 7].\n",
    "\n",
    "chip1: [-0.3, 1.0] ==> Fail<br>\n",
    "chip2: [-0.5, -0.1] ==> OK<br>\n",
    "chip3: [0.6, 0.0] ==> OK<br>\n",
    "\n",
    "The results are shown as 0 (FAIL) and 1 (OK)"
   ]
  },
  {
   "cell_type": "code",
   "execution_count": 8,
   "metadata": {
    "pycharm": {
     "is_executing": false,
     "name": "#%%\n"
    }
   },
   "outputs": [
    {
     "name": "stdout",
     "output_type": "stream",
     "text": [
      "k=1\n",
      "Chip 1 ==>  1\n",
      "Chip 2 ==>  0\n",
      "Chip 3 ==>  0\n",
      "=======================\n",
      "k=3\n",
      "Chip 1 ==>  0\n",
      "Chip 2 ==>  0\n",
      "Chip 3 ==>  1\n",
      "=======================\n",
      "k=5\n",
      "Chip 1 ==>  0\n",
      "Chip 2 ==>  1\n",
      "Chip 3 ==>  1\n",
      "=======================\n",
      "k=7\n",
      "Chip 1 ==>  0\n",
      "Chip 2 ==>  0\n",
      "Chip 3 ==>  1\n",
      "=======================\n"
     ]
    }
   ],
   "source": [
    "import kNearest\n",
    "import numpy as np\n",
    "from os import path\n",
    "\n",
    "data = np.genfromtxt(path.join('data/microchips.csv'), delimiter=',', dtype=float)\n",
    "\n",
    "# Create Microchips to compare\n",
    "chip_1 = (-0.3, 1.0)\n",
    "chip_2 = (-0.5, -0.1)\n",
    "chip_3 = (0.6, 0.0)\n",
    "\n",
    "for k in [1, 3, 5, 7]:\n",
    "    print(f\"k={k}\")\n",
    "    nearest = kNearest.k_nearest(chip_1, k, data)\n",
    "    print(\"Chip 1 ==> \", kNearest.classifyChip(nearest))\n",
    "    nearest = kNearest.k_nearest(chip_2, k, data)\n",
    "    print(\"Chip 2 ==> \", kNearest.classifyChip(nearest))\n",
    "    nearest = kNearest.k_nearest(chip_3, k, data)\n",
    "    print(\"Chip 3 ==> \", kNearest.classifyChip(nearest))\n",
    "    print(\"=======================\")\n"
   ]
  },
  {
   "cell_type": "markdown",
   "metadata": {},
   "source": [
    "<strong>1.3 Decision boundary</strong>\n",
    "\n",
    "Displays a 2x2 plot showing the decision boundary and training errors.\n"
   ]
  },
  {
   "cell_type": "code",
   "execution_count": null,
   "metadata": {
    "pycharm": {
     "is_executing": false,
     "name": "#%%\n"
    }
   },
   "outputs": [],
   "source": [
    "import numpy as np\n",
    "from os import path\n",
    "import matplotlib.pyplot as plt\n",
    "from matplotlib.colors import ListedColormap\n",
    "import kNearest\n",
    "plt.rcParams[\"figure.figsize\"] = (20,20) # scale plots \n",
    "\n",
    "data = np.genfromtxt(path.join('data/microchips.csv'), delimiter=',', dtype=float)\n",
    "\n",
    "failed = list(filter(lambda chip: chip[2] == 0, data))\n",
    "ok = list(filter(lambda chip: chip[2] == 1, data))\n",
    "\n",
    "xf, yf, zf = list(zip(*failed))\n",
    "x, y, z = list(zip(*ok))\n",
    "\n",
    "h = .02  # higher resolutions gives a clearer definition of boundary\n",
    "\n",
    "# Plotting decision regions\n",
    "x_min, x_max = data[:, 0].min() - 0.1, data[:, 0].max() + 0.1  # slice array (0-118, col 0)\n",
    "y_min, y_max = data[:, 1].min() - 0.1, data[:, 1].max() + 0.1  # slice array (0-118, col 1)\n",
    "\n",
    "#\n",
    "xx, yy = np.meshgrid(np.arange(x_min, x_max, h), np.arange(y_min, y_max, h))  # Mesh Grid\n",
    "xy_mesh = np.c_[xx.ravel(), yy.ravel()]  # Turn to Nx2 matrix\n",
    "\n",
    "# Mesh plot colors\n",
    "cmap_light = ListedColormap(['#FFAAAA', '#AAFFAA', '#AAAAFF'])\n",
    "cmap_bold = ListedColormap(['#FF0000', '#00FF00', '#0000FF'])\n",
    "\n",
    "figure, axes = plt.subplots(nrows=2, ncols=2)\n",
    "figure.tight_layout(pad=3.0)\n",
    "figNr = 1\n",
    "for k in [1, 3, 5, 7]:\n",
    "    classes = kNearest.classifyMesh(k, data, xy_mesh)  # Classify mesh\n",
    "    errors = kNearest.classifyErrors(k, data)\n",
    "    clz_mesh = classes.reshape(xx.shape)  # Return to mesh shape\n",
    "    ax = plt.subplot(2, 2, figNr) # Create subplot n\n",
    "\n",
    "    ax.set_title(\"k=%i, training errors = %i\" % (k, errors),)  # title\n",
    "    # Subplots\n",
    "    figNr += 1\n",
    "    ax.pcolormesh(xx, yy, clz_mesh, cmap=cmap_light)\n",
    "    ax.scatter(x, y, color='b')\n",
    "    ax.scatter(xf, yf, color='r')\n",
    "\n",
    "plt.show()\n",
    "\n"
   ]
  },
  {
   "cell_type": "code",
   "execution_count": null,
   "metadata": {},
   "outputs": [],
   "source": []
  }
 ],
 "metadata": {
  "kernelspec": {
   "display_name": "Python 3",
   "language": "python",
   "name": "python3"
  },
  "language_info": {
   "codemirror_mode": {
    "name": "ipython",
    "version": 3
   },
   "file_extension": ".py",
   "mimetype": "text/x-python",
   "name": "python",
   "nbconvert_exporter": "python",
   "pygments_lexer": "ipython3",
   "version": "3.7.6"
  },
  "pycharm": {
   "stem_cell": {
    "cell_type": "raw",
    "metadata": {
     "collapsed": false
    },
    "source": []
   }
  }
 },
 "nbformat": 4,
 "nbformat_minor": 4
}
